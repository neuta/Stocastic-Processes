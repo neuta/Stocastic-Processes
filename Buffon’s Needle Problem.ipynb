{
 "cells": [
  {
   "cell_type": "code",
   "execution_count": 29,
   "metadata": {},
   "outputs": [],
   "source": [
    "\n",
    "import random\n",
    "import numpy as np\n",
    "import math\n",
    "import matplotlib.pyplot as plt\n",
    "import pandas as pd"
   ]
  },
  {
   "cell_type": "code",
   "execution_count": 10,
   "metadata": {
    "scrolled": true
   },
   "outputs": [
    {
     "name": "stdout",
     "output_type": "stream",
     "text": [
      " 1 | 3.0949\n",
      " 2 | 3.2991\n",
      " 3 | 3.0040\n",
      " 4 | 3.0992\n",
      " 5 | 3.1469\n",
      " 6 | 3.1601\n",
      " 7 | 3.0907\n",
      " 8 | 3.0571\n",
      " 9 | 3.1163\n",
      "10 | 3.0000\n",
      "11 | 2.9221\n",
      "12 | 3.1034\n",
      "13 | 3.1690\n",
      "14 | 3.1077\n",
      "15 | 3.2006\n",
      "16 | 3.1780\n",
      "17 | 3.2097\n",
      "18 | 3.1735\n",
      "19 | 3.1735\n",
      "20 | 3.1960\n",
      "21 | 3.1735\n",
      "22 | 3.2281\n",
      "23 | 3.2421\n",
      "24 | 3.0822\n",
      "25 | 3.0864\n",
      "26 | 3.3733\n",
      "27 | 2.9960\n",
      "28 | 3.2235\n",
      "29 | 3.1513\n",
      "30 | 3.2562\n",
      "31 | 3.1034\n",
      "32 | 3.2799\n",
      "33 | 3.2143\n",
      "34 | 3.2799\n",
      "35 | 3.0447\n",
      "36 | 3.3784\n",
      "37 | 3.0738\n",
      "38 | 3.1870\n",
      "39 | 3.1960\n",
      "40 | 3.2562\n",
      "41 | 3.0242\n",
      "42 | 3.1870\n",
      "43 | 3.0864\n",
      "44 | 3.4299\n",
      "45 | 3.0488\n",
      "46 | 3.2006\n",
      "47 | 3.2189\n",
      "48 | 3.1870\n",
      "49 | 3.1469\n",
      "50 | 3.1690\n",
      "51 | 2.9960\n",
      "52 | 2.9644\n",
      "53 | 3.1469\n",
      "54 | 3.2143\n",
      "55 | 3.0696\n",
      "56 | 3.0822\n",
      "57 | 2.9259\n",
      "58 | 3.0000\n",
      "59 | 3.0447\n",
      "60 | 3.1163\n",
      "61 | 3.1960\n",
      "62 | 3.1960\n",
      "63 | 2.9070\n",
      "64 | 3.4509\n",
      "65 | 3.1163\n",
      "66 | 2.9920\n",
      "67 | 3.0447\n",
      "68 | 3.1250\n",
      "69 | 3.2235\n",
      "70 | 3.1915\n",
      "71 | 3.0405\n",
      "72 | 3.0949\n",
      "73 | 3.2609\n",
      "74 | 3.0323\n",
      "75 | 3.2562\n",
      "76 | 3.1120\n",
      "77 | 2.9107\n",
      "78 | 3.0080\n",
      "79 | 3.2799\n",
      "80 | 3.0949\n",
      "81 | 3.1293\n",
      "82 | 3.2051\n",
      "83 | 3.2514\n",
      "84 | 2.8626\n",
      "85 | 3.2421\n",
      "86 | 3.0738\n",
      "87 | 3.1601\n",
      "88 | 3.1337\n",
      "89 | 3.1469\n",
      "90 | 3.0696\n",
      "91 | 3.1337\n",
      "92 | 3.2421\n",
      "93 | 3.0242\n",
      "94 | 2.9566\n",
      "95 | 3.0120\n",
      "96 | 3.2656\n",
      "97 | 3.1207\n",
      "98 | 3.3383\n",
      "99 | 3.1077\n",
      "Valor experimental promedio: 3.1373\n",
      "Desviación absoluta: ±0.0043\n",
      "Desviación relativa: 0.00%\n"
     ]
    }
   ],
   "source": [
    "import random\n",
    "import math\n",
    "\n",
    "n = 9000 #Numero de agujas\n",
    "l = 1    #Longitud de la aguja\n",
    "t = 8    #Ancho del tablero\n",
    "\n",
    "\n",
    "\n",
    "def deg_to_rad(deg):\n",
    "    \"\"\"La función convierte los grados en radianes\"\"\"\n",
    "    return (deg * math.pi)/180\n",
    "\n",
    "def buffon_needle(l, t, n):\n",
    "    m = 0\n",
    "    for _ in range(n):\n",
    "        xcent = random.random() * (t / 2.0)\n",
    "        theta_deg = random.random() * 90\n",
    "        theta = deg_to_rad(theta_deg)\n",
    "        cross = xcent <= (l / 2.0) * math.cos(theta)  \n",
    "        if cross:\n",
    "            m += 1\n",
    "    try:\n",
    "        pi_exp = (2 * l * n) / (t * m)\n",
    "    except:\n",
    "        print(\"division by zero exception\")\n",
    "        pi_exp = 0\n",
    "    return pi_exp\n",
    "\n",
    "def statistics(num):\n",
    "    \"\"\"Realizar el experimento varias veces y recopilar estadísticas\"\"\"\n",
    "    global l, t, n\n",
    "    \n",
    "    average = list()\n",
    "    \n",
    "    for i in range(num):\n",
    "        \n",
    "        average.append(buffon_needle(l, t, n))\n",
    "        print(\"{0:2} | {1:.4f}\".format(i + 1, average[i]))\n",
    "        \n",
    "    av = sum(average)/num\n",
    "    abs_error = math.fabs(math.pi - av)\n",
    "    \n",
    "    print(\"Valor experimental promedio: {0:.4f}\".format(av))\n",
    "    print(\"Desviación absoluta: ±{0:.4f}\".format(abs_error))\n",
    "    print(\"Desviación relativa: {0:.2f}%\".format(abs_error/math.pi))\n",
    "\n",
    "statistics(99)"
   ]
  },
  {
   "cell_type": "code",
   "execution_count": 9,
   "metadata": {},
   "outputs": [
    {
     "ename": "NameError",
     "evalue": "name 'average' is not defined",
     "output_type": "error",
     "traceback": [
      "\u001b[0;31m---------------------------------------------------------------------------\u001b[0m",
      "\u001b[0;31mNameError\u001b[0m                                 Traceback (most recent call last)",
      "\u001b[0;32m<ipython-input-9-c3fe9b4213f6>\u001b[0m in \u001b[0;36m<module>\u001b[0;34m\u001b[0m\n\u001b[0;32m----> 1\u001b[0;31m \u001b[0maverage\u001b[0m\u001b[0;34m\u001b[0m\u001b[0;34m\u001b[0m\u001b[0m\n\u001b[0m",
      "\u001b[0;31mNameError\u001b[0m: name 'average' is not defined"
     ]
    }
   ],
   "source": [
    "average\n"
   ]
  },
  {
   "cell_type": "code",
   "execution_count": 4,
   "metadata": {},
   "outputs": [
    {
     "name": "stdout",
     "output_type": "stream",
     "text": [
      "Buffon Needle Experiment (Google it) \n",
      "Runs       Number Hits  estimate of pi\n",
      "0            2551               3.1360250882007055\n",
      "1            2574               3.108003108003108\n",
      "2            2545               3.143418467583497\n",
      "3            2593               3.0852294639413804\n",
      "4            2529               3.163305654408857\n"
     ]
    }
   ],
   "source": [
    "'''\n",
    "From Statistical Mechanics by Werner Krauth\n",
    "\n",
    "Buffon's Needle Experiment\n",
    "n = number of throws\n",
    "r = number of runs\n",
    "a = length of needle\n",
    "b = distance between cracks\n",
    "theta = angle needle makes to crack\n",
    "rcenter = center of needles on floor\n",
    "0  < theta < pi/2\n",
    "0 < xcenter < b/2\n",
    "\n",
    "nhits <===  number of hits of needle centered at x, with orientation theta\n",
    "nhits = 1 if x < a/2 and abs(theta) < arcos(x/(a/2))\n",
    "      = 0 otherwise\n",
    "'''\n",
    "\n",
    "import random\n",
    "import math\n",
    "\n",
    "def buffon(n,r,a,b):\n",
    "    data=[]\n",
    "    print ('Buffon Needle Experiment (Google it) ' )\n",
    "    print ('Runs       Number Hits  estimate of pi')\n",
    "    for jj in range(r):\n",
    "        nhits = 0\n",
    "        for ii in range(n):\n",
    "            xcent = random.uniform(0,b/2.0)\n",
    "            theta = random.uniform(0,math.pi/2)\n",
    "            xtip  = xcent - (a/2.0)*math.cos(theta)  #use of cosine not historically accurate\n",
    "            if xtip < 0 :\n",
    "                nhits += 1\n",
    "        #print str(jj)+'            '+str(nhits)+'               '+str((6.0/a*float(b))*nhits/n)\n",
    "        c = 2.0*a*n\n",
    "        d = b*nhits\n",
    "        print (str(jj)+'            '+str(nhits)+'               '+str(c/d))\n",
    "        data.append([jj,nhits])\n",
    "    return data\n",
    "        \n",
    "\n",
    "r=5\n",
    "n=4000\n",
    "a = 2  #needle 2 inches\n",
    "b = 2  #cracks 2 inch spacing\n",
    "\n",
    "hits= buffon(n,r,a,b)\n",
    "    "
   ]
  },
  {
   "cell_type": "code",
   "execution_count": 74,
   "metadata": {},
   "outputs": [],
   "source": [
    "\n",
    "#Function to estimate PI value :\n",
    "def mtCrl(runs,needles,n_length,b_width):\n",
    "    #Empty list to store pi values :\n",
    "    pi_values = []    \n",
    "    s_tip_r = []\n",
    "    N = []\n",
    "    \n",
    "\n",
    "    #For all runs :\n",
    "    for i in range(runs):\n",
    "        #Initialize number of hits as 0.\n",
    "        nhits = 0\n",
    "        \n",
    "        #For all needles :\n",
    "        for j in range(needles):\n",
    "            \n",
    "            x = random.uniform(0,b_width/2.0)\n",
    "            \n",
    "            #The theta value will be from 0 to pi/2 :\n",
    "            theta = random.uniform(0,math.pi/2)            \n",
    "            #Checking if the needle crosses the line or not :\n",
    "            xtip  = x - (n_length/2.0)*math.cos(theta)  \n",
    "            \n",
    "            if xtip < 0 :\n",
    "                \n",
    "                nhits += 1\n",
    "                s_tip = 1.\n",
    "                \n",
    "                \n",
    "            else:\n",
    "                \n",
    "                s_tip = 0.\n",
    "               \n",
    "                \n",
    "        s_tip_r.append(s_tip)\n",
    "        N.append(i)\n",
    "      \n",
    "\n",
    "        #Going with the formula :\n",
    "        numerator = 2.0 * n_length * needles\n",
    "        denominator = b_width * nhits\n",
    "       \n",
    "        #Append the final value of pi :\n",
    "        pi_values.append((numerator/denominator))\n",
    "    \n",
    "    #Final pi value after all iterations :\n",
    "    print(pi_values[-1])\n",
    "    \n",
    "    #Plotting the graph :\n",
    "    plt.plot(pi_values)\n",
    "    \n",
    "    return s_tip_r,N"
   ]
  },
  {
   "cell_type": "code",
   "execution_count": 75,
   "metadata": {
    "scrolled": true
   },
   "outputs": [
    {
     "name": "stdout",
     "output_type": "stream",
     "text": [
      "3.146039136726861\n"
     ]
    },
    {
     "data": {
      "image/png": "[encoded data removed]",
      "text/plain": [
       "<Figure size 432x288 with 1 Axes>"
      ]
     },
     "metadata": {
      "needs_background": "light"
     },
     "output_type": "display_data"
    }
   ],
   "source": [
    "#Total number of runs :\n",
    "runs = 1000\n",
    "#Total number of needles :\n",
    "needles = 100000\n",
    "\n",
    "#Length of needle :\n",
    "n_length = 2  \n",
    "\n",
    "#space between 2 verical lines :\n",
    "b_width =2\n",
    "\n",
    "#Calling the main function :\n",
    "s_tip,N= mtCrl(runs,needles,n_length,b_width)"
   ]
  },
  {
   "cell_type": "code",
   "execution_count": 76,
   "metadata": {
    "scrolled": false
   },
   "outputs": [
    {
     "name": "stdout",
     "output_type": "stream",
     "text": [
      "[1.0, 0.0, 1.0, 0.0, 1.0, 0.0, 1.0, 0.0, 1.0, 0.0, 0.0, 0.0, 0.0, 1.0, 1.0, 0.0, 1.0, 0.0, 1.0, 0.0, 1.0, 1.0, 1.0, 1.0, 0.0, 0.0, 1.0, 0.0, 0.0, 1.0, 1.0, 0.0, 1.0, 0.0, 1.0, 0.0, 0.0, 1.0, 1.0, 1.0, 1.0, 0.0, 1.0, 1.0, 1.0, 1.0, 0.0, 0.0, 1.0, 1.0, 0.0, 1.0, 1.0, 1.0, 0.0, 1.0, 1.0, 1.0, 1.0, 1.0, 1.0, 0.0, 0.0, 0.0, 0.0, 1.0, 1.0, 1.0, 1.0, 1.0, 0.0, 0.0, 1.0, 1.0, 1.0, 0.0, 0.0, 1.0, 1.0, 0.0, 0.0, 1.0, 1.0, 0.0, 1.0, 1.0, 0.0, 1.0, 0.0, 0.0, 1.0, 1.0, 0.0, 1.0, 0.0, 1.0, 1.0, 1.0, 1.0, 1.0, 0.0, 1.0, 0.0, 1.0, 1.0, 1.0, 1.0, 1.0, 0.0, 0.0, 1.0, 0.0, 0.0, 0.0, 1.0, 0.0, 1.0, 1.0, 1.0, 1.0, 0.0, 1.0, 0.0, 1.0, 0.0, 1.0, 1.0, 1.0, 1.0, 0.0, 1.0, 0.0, 1.0, 1.0, 1.0, 0.0, 1.0, 0.0, 1.0, 1.0, 1.0, 1.0, 0.0, 0.0, 1.0, 1.0, 0.0, 1.0, 1.0, 1.0, 0.0, 1.0, 1.0, 0.0, 0.0, 1.0, 1.0, 1.0, 1.0, 1.0, 1.0, 1.0, 1.0, 1.0, 1.0, 1.0, 1.0, 1.0, 1.0, 1.0, 1.0, 1.0, 1.0, 0.0, 0.0, 1.0, 1.0, 0.0, 1.0, 1.0, 0.0, 0.0, 1.0, 1.0, 1.0, 1.0, 0.0, 0.0, 1.0, 1.0, 1.0, 1.0, 1.0, 1.0, 1.0, 0.0, 1.0, 1.0, 1.0, 1.0, 1.0, 0.0, 0.0, 1.0, 0.0, 0.0, 1.0, 1.0, 1.0, 1.0, 0.0, 1.0, 1.0, 1.0, 1.0, 0.0, 1.0, 0.0, 1.0, 1.0, 1.0, 1.0, 1.0, 0.0, 1.0, 0.0, 1.0, 0.0, 1.0, 1.0, 1.0, 0.0, 1.0, 1.0, 1.0, 1.0, 1.0, 1.0, 1.0, 1.0, 1.0, 0.0, 0.0, 1.0, 1.0, 0.0, 1.0, 0.0, 0.0, 0.0, 0.0, 1.0, 1.0, 1.0, 1.0, 1.0, 1.0, 1.0, 1.0, 0.0, 0.0, 0.0, 0.0, 1.0, 1.0, 0.0, 1.0, 1.0, 0.0, 0.0, 1.0, 0.0, 1.0, 0.0, 1.0, 0.0, 1.0, 1.0, 1.0, 1.0, 1.0, 1.0, 1.0, 0.0, 1.0, 0.0, 1.0, 0.0, 1.0, 1.0, 0.0, 0.0, 1.0, 0.0, 1.0, 0.0, 1.0, 0.0, 0.0, 0.0, 1.0, 1.0, 1.0, 0.0, 1.0, 1.0, 0.0, 1.0, 1.0, 0.0, 1.0, 0.0, 0.0, 1.0, 1.0, 1.0, 1.0, 1.0, 0.0, 1.0, 1.0, 1.0, 1.0, 0.0, 1.0, 0.0, 0.0, 0.0, 1.0, 1.0, 1.0, 0.0, 0.0, 1.0, 1.0, 1.0, 1.0, 1.0, 1.0, 0.0, 1.0, 1.0, 0.0, 0.0, 1.0, 1.0, 1.0, 1.0, 1.0, 1.0, 1.0, 1.0, 1.0, 0.0, 0.0, 1.0, 0.0, 0.0, 0.0, 1.0, 0.0, 1.0, 0.0, 1.0, 1.0, 1.0, 0.0, 1.0, 1.0, 0.0, 0.0, 1.0, 0.0, 0.0, 0.0, 0.0, 0.0, 1.0, 1.0, 1.0, 0.0, 1.0, 0.0, 1.0, 1.0, 1.0, 0.0, 1.0, 1.0, 1.0, 0.0, 0.0, 0.0, 1.0, 0.0, 1.0, 0.0, 1.0, 0.0, 0.0, 1.0, 0.0, 1.0, 1.0, 1.0, 1.0, 1.0, 1.0, 1.0, 1.0, 0.0, 0.0, 1.0, 0.0, 1.0, 0.0, 1.0, 1.0, 1.0, 0.0, 0.0, 1.0, 0.0, 0.0, 0.0, 1.0, 1.0, 0.0, 0.0, 0.0, 0.0, 1.0, 1.0, 0.0, 0.0, 1.0, 0.0, 1.0, 1.0, 0.0, 1.0, 0.0, 1.0, 1.0, 1.0, 1.0, 0.0, 1.0, 1.0, 1.0, 1.0, 0.0, 1.0, 0.0, 1.0, 1.0, 1.0, 0.0, 1.0, 0.0, 0.0, 0.0, 0.0, 1.0, 1.0, 0.0, 0.0, 1.0, 0.0, 1.0, 1.0, 1.0, 1.0, 1.0, 1.0, 1.0, 1.0, 0.0, 0.0, 1.0, 1.0, 0.0, 1.0, 1.0, 0.0, 0.0, 0.0, 1.0, 1.0, 1.0, 0.0, 0.0, 1.0, 0.0, 0.0, 0.0, 1.0, 1.0, 1.0, 0.0, 1.0, 1.0, 1.0, 0.0, 0.0, 0.0, 1.0, 0.0, 1.0, 0.0, 1.0, 1.0, 1.0, 1.0, 1.0, 1.0, 1.0, 1.0, 1.0, 1.0, 0.0, 1.0, 1.0, 1.0, 0.0, 1.0, 1.0, 1.0, 1.0, 0.0, 1.0, 0.0, 1.0, 0.0, 1.0, 1.0, 0.0, 1.0, 0.0, 1.0, 1.0, 0.0, 1.0, 1.0, 1.0, 1.0, 1.0, 1.0, 0.0, 1.0, 1.0, 0.0, 1.0, 1.0, 1.0, 1.0, 1.0, 1.0, 0.0, 1.0, 1.0, 1.0, 1.0, 1.0, 1.0, 1.0, 1.0, 1.0, 1.0, 0.0, 1.0, 1.0, 1.0, 1.0, 1.0, 1.0, 1.0, 1.0, 1.0, 1.0, 0.0, 1.0, 1.0, 0.0, 0.0, 0.0, 1.0, 1.0, 0.0, 1.0, 1.0, 0.0, 1.0, 1.0, 0.0, 1.0, 1.0, 0.0, 0.0, 1.0, 1.0, 1.0, 1.0, 1.0, 1.0, 1.0, 0.0, 1.0, 1.0, 1.0, 1.0, 0.0, 1.0, 1.0, 1.0, 1.0, 0.0, 0.0, 1.0, 1.0, 1.0, 1.0, 1.0, 1.0, 0.0, 0.0, 1.0, 1.0, 1.0, 1.0, 0.0, 0.0, 0.0, 1.0, 1.0, 0.0, 0.0, 0.0, 0.0, 0.0, 1.0, 1.0, 0.0, 1.0, 0.0, 1.0, 1.0, 1.0, 0.0, 0.0, 0.0, 1.0, 0.0, 1.0, 0.0, 1.0, 1.0, 0.0, 1.0, 1.0, 1.0, 1.0, 1.0, 1.0, 1.0, 0.0, 1.0, 0.0, 1.0, 1.0, 0.0, 1.0, 1.0, 1.0, 1.0, 0.0, 1.0, 0.0, 1.0, 1.0, 0.0, 1.0, 1.0, 1.0, 1.0, 0.0, 0.0, 0.0, 0.0, 0.0, 0.0, 1.0, 1.0, 0.0, 1.0, 1.0, 1.0, 1.0, 1.0, 0.0, 1.0, 0.0, 1.0, 1.0, 1.0, 1.0, 1.0, 0.0, 0.0, 0.0, 1.0, 1.0, 1.0, 1.0, 1.0, 1.0, 1.0, 1.0, 1.0, 1.0, 1.0, 1.0, 1.0, 1.0, 1.0, 0.0, 1.0, 1.0, 1.0, 0.0, 1.0, 0.0, 0.0, 1.0, 1.0, 1.0, 0.0, 1.0, 1.0, 1.0, 0.0, 1.0, 0.0, 0.0, 1.0, 1.0, 0.0, 0.0, 1.0, 1.0, 1.0, 0.0, 0.0, 0.0, 0.0, 0.0, 1.0, 1.0, 1.0, 0.0, 0.0, 1.0, 1.0, 1.0, 1.0, 1.0, 1.0, 1.0, 1.0, 1.0, 0.0, 1.0, 0.0, 1.0, 1.0, 1.0, 1.0, 1.0, 0.0, 1.0, 1.0, 1.0, 1.0, 1.0, 0.0, 1.0, 1.0, 0.0, 1.0, 1.0, 1.0, 0.0, 1.0, 0.0, 1.0, 1.0, 0.0, 0.0, 0.0, 1.0, 0.0, 0.0, 1.0, 1.0, 0.0, 0.0, 0.0, 1.0, 0.0, 0.0, 0.0, 1.0, 0.0, 1.0, 0.0, 1.0, 1.0, 1.0, 1.0, 1.0, 1.0, 0.0, 1.0, 1.0, 1.0, 0.0, 1.0, 1.0, 1.0, 1.0, 1.0, 1.0, 1.0, 0.0, 1.0, 0.0, 1.0, 1.0, 1.0, 1.0, 1.0, 0.0, 1.0, 1.0, 1.0, 1.0, 1.0, 0.0, 1.0, 1.0, 1.0, 1.0, 0.0, 0.0, 0.0, 0.0, 0.0, 0.0, 1.0, 0.0, 1.0, 1.0, 0.0, 1.0, 1.0, 0.0, 1.0, 0.0, 1.0, 1.0, 0.0, 1.0, 1.0, 0.0, 1.0, 1.0, 0.0, 0.0, 0.0, 0.0, 0.0, 0.0, 1.0, 1.0, 1.0, 1.0, 1.0, 1.0, 0.0, 0.0, 0.0, 1.0, 0.0, 1.0, 1.0, 1.0, 1.0, 1.0, 1.0, 1.0, 0.0, 1.0, 1.0, 0.0, 1.0, 0.0, 1.0, 1.0, 1.0, 0.0, 0.0, 1.0, 0.0, 1.0, 1.0, 1.0, 1.0, 1.0, 1.0, 1.0, 1.0, 1.0, 0.0, 0.0, 1.0, 1.0, 1.0, 0.0, 1.0, 1.0, 0.0, 1.0, 0.0, 0.0, 1.0, 1.0, 1.0, 1.0, 0.0, 1.0, 0.0, 1.0, 1.0, 1.0, 0.0, 1.0, 1.0, 1.0, 1.0, 1.0, 1.0, 0.0, 1.0, 0.0, 0.0, 1.0, 1.0, 1.0, 1.0, 1.0, 1.0, 1.0, 1.0, 0.0, 1.0, 0.0, 1.0, 1.0, 0.0, 0.0, 1.0, 1.0, 1.0, 1.0, 0.0, 1.0, 0.0, 1.0, 0.0, 0.0, 1.0, 1.0, 1.0, 1.0, 0.0, 0.0, 1.0, 0.0, 1.0, 0.0, 0.0, 1.0, 1.0, 0.0, 1.0, 1.0, 0.0, 1.0, 1.0, 1.0]\n"
     ]
    }
   ],
   "source": [
    "print(s_tip)"
   ]
  },
  {
   "cell_type": "code",
   "execution_count": 77,
   "metadata": {
    "scrolled": true
   },
   "outputs": [
    {
     "name": "stdout",
     "output_type": "stream",
     "text": [
      "       N  acum\n",
      "0      0   1.0\n",
      "1      1   0.0\n",
      "2      2   1.0\n",
      "3      3   0.0\n",
      "4      4   1.0\n",
      "..   ...   ...\n",
      "995  995   1.0\n",
      "996  996   0.0\n",
      "997  997   1.0\n",
      "998  998   1.0\n",
      "999  999   1.0\n",
      "\n",
      "[1000 rows x 2 columns]\n"
     ]
    }
   ],
   "source": [
    "df = pd.DataFrame({'N':N,'acum':s_tip})\n",
    "\n",
    "print (df)"
   ]
  },
  {
   "cell_type": "code",
   "execution_count": 78,
   "metadata": {},
   "outputs": [
    {
     "data": {
      "text/plain": [
       "0      1.000000\n",
       "1      0.500000\n",
       "2      0.666667\n",
       "3      0.500000\n",
       "4      0.600000\n",
       "         ...   \n",
       "995    0.646586\n",
       "996    0.645938\n",
       "997    0.646293\n",
       "998    0.646647\n",
       "999    0.647000\n",
       "Length: 1000, dtype: float64"
      ]
     },
     "execution_count": 78,
     "metadata": {},
     "output_type": "execute_result"
    }
   ],
   "source": [
    "s = df['acum']\n",
    "N = df['N']\n",
    "tip = s.cumsum() / pd.Series(np.arange(1, len(s)+1), s.index)\n",
    "tip\n"
   ]
  },
  {
   "cell_type": "code",
   "execution_count": 81,
   "metadata": {
    "scrolled": true
   },
   "outputs": [
    {
     "data": {
      "image/png": "[encoded data removed]",
      "text/plain": [
       "<Figure size 432x288 with 1 Axes>"
      ]
     },
     "metadata": {
      "needs_background": "light"
     },
     "output_type": "display_data"
    }
   ],
   "source": [
    "plt.plot(N.T,tip)\n",
    "plt.xlim(0, 100)\n",
    "plt.ylim(0, 1)\n",
    "plt.xlabel('Simulations')\n",
    "plt.ylabel('%')\n",
    "plt.show()"
   ]
  },
  {
   "cell_type": "code",
   "execution_count": null,
   "metadata": {},
   "outputs": [],
   "source": []
  }
 ],
 "metadata": {
  "kernelspec": {
   "display_name": "Python 3",
   "language": "python",
   "name": "python3"
  },
  "language_info": {
   "codemirror_mode": {
    "name": "ipython",
    "version": 3
   },
   "file_extension": ".py",
   "mimetype": "text/x-python",
   "name": "python",
   "nbconvert_exporter": "python",
   "pygments_lexer": "ipython3",
   "version": "3.8.3"
  }
 },
 "nbformat": 4,
 "nbformat_minor": 4
}
